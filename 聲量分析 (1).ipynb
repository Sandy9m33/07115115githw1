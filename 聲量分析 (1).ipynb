{
 "cells": [
  {
   "cell_type": "code",
   "execution_count": 5,
   "metadata": {},
   "outputs": [],
   "source": [
    "import pandas as pd\n",
    "import matplotlib.pyplot as plt\n",
    "\n",
    "plt.rcParams['font.sans-serif'] = ['Microsoft JhengHei']\n",
    "\n",
    "colrogroup = ['#427f8f','#4a8fa1','#559db0','#66a7b8','#77b1c0','#89bbc8','#9ac5d0','#bdd9e0','#cee3e8','#e0edf0']\n",
    "#藍色漸層\n",
    "colrogroup2 = ['#cd0003','#e60003','#ff0004','#ff1a1d','#ff3436','#ff4d4f','#ff6768','#ff8181','#ff9a9b','#ffb4b4']\n",
    "#紅色漸層"
   ]
  },
  {
   "cell_type": "code",
   "execution_count": 22,
   "metadata": {},
   "outputs": [],
   "source": [
    "movie = ['','皇后的品格','赤月青日','神的測驗','死之詠讚',\n",
    "'加油吧威基基','皮諾丘','魔女寶鑑','男朋友','來自星星的你']\n",
    "\n",
    "KoreaDrama = pd.read_csv('KoreaDrama_re.csv',\n",
    "                        engine='python',error_bad_lines=False)\n",
    "\n",
    "thearticle = KoreaDrama['標題'] = KoreaDrama['內容']"
   ]
  },
  {
   "cell_type": "code",
   "execution_count": 23,
   "metadata": {},
   "outputs": [
    {
     "data": {
      "text/html": [
       "<div>\n",
       "<style scoped>\n",
       "    .dataframe tbody tr th:only-of-type {\n",
       "        vertical-align: middle;\n",
       "    }\n",
       "\n",
       "    .dataframe tbody tr th {\n",
       "        vertical-align: top;\n",
       "    }\n",
       "\n",
       "    .dataframe thead th {\n",
       "        text-align: right;\n",
       "    }\n",
       "</style>\n",
       "<table border=\"1\" class=\"dataframe\">\n",
       "  <thead>\n",
       "    <tr style=\"text-align: right;\">\n",
       "      <th></th>\n",
       "      <th>Unnamed: 0</th>\n",
       "      <th>標題</th>\n",
       "      <th>時間</th>\n",
       "      <th>內容</th>\n",
       "      <th>Unnamed: 4</th>\n",
       "    </tr>\n",
       "  </thead>\n",
       "  <tbody>\n",
       "    <tr>\n",
       "      <th>0</th>\n",
       "      <td>13</td>\n",
       "      <td>&lt;span class=\"b1 hl\"&gt;2018 SBS 演技大賞&lt;/span&gt;</td>\n",
       "      <td>20181231</td>\n",
       "      <td>&lt;span class=\"b1 hl\"&gt;2018 SBS 演技大賞&lt;/span&gt;</td>\n",
       "      <td>NaN</td>\n",
       "    </tr>\n",
       "    <tr>\n",
       "      <th>1</th>\n",
       "      <td>日　期：2018.12.31</td>\n",
       "      <td>NaN</td>\n",
       "      <td>NaN</td>\n",
       "      <td>NaN</td>\n",
       "      <td>NaN</td>\n",
       "    </tr>\n",
       "    <tr>\n",
       "      <th>2</th>\n",
       "      <td>時　間：20:55</td>\n",
       "      <td>NaN</td>\n",
       "      <td>NaN</td>\n",
       "      <td>NaN</td>\n",
       "      <td>NaN</td>\n",
       "    </tr>\n",
       "    <tr>\n",
       "      <th>3</th>\n",
       "      <td>主持人：申東燁、申惠善、李帝勳</td>\n",
       "      <td>NaN</td>\n",
       "      <td>NaN</td>\n",
       "      <td>NaN</td>\n",
       "      <td>NaN</td>\n",
       "    </tr>\n",
       "    <tr>\n",
       "      <th>4</th>\n",
       "      <td>網  頁：&lt;a href=\"\"https://goo.gl/5izEto\"\" rel=\"\"n...</td>\n",
       "      <td>NaN</td>\n",
       "      <td>NaN</td>\n",
       "      <td>NaN</td>\n",
       "      <td>NaN</td>\n",
       "    </tr>\n",
       "    <tr>\n",
       "      <th>...</th>\n",
       "      <td>...</td>\n",
       "      <td>...</td>\n",
       "      <td>...</td>\n",
       "      <td>...</td>\n",
       "      <td>...</td>\n",
       "    </tr>\n",
       "    <tr>\n",
       "      <th>30947</th>\n",
       "      <td>?若有人違反板規，可在推文中提出，但需註明「文章代碼＋違規事由」</td>\n",
       "      <td>NaN</td>\n",
       "      <td>NaN</td>\n",
       "      <td>NaN</td>\n",
       "      <td>NaN</td>\n",
       "    </tr>\n",
       "    <tr>\n",
       "      <th>30948</th>\n",
       "      <td>NaN</td>\n",
       "      <td>NaN</td>\n",
       "      <td>NaN</td>\n",
       "      <td>NaN</td>\n",
       "      <td>NaN</td>\n",
       "    </tr>\n",
       "    <tr>\n",
       "      <th>30949</th>\n",
       "      <td>?若有人違反板規，可在推文中提出，但需註明「文章代碼＋違規事由」</td>\n",
       "      <td>NaN</td>\n",
       "      <td>NaN</td>\n",
       "      <td>NaN</td>\n",
       "      <td>NaN</td>\n",
       "    </tr>\n",
       "    <tr>\n",
       "      <th>30950</th>\n",
       "      <td>NaN</td>\n",
       "      <td>NaN</td>\n",
       "      <td>NaN</td>\n",
       "      <td>NaN</td>\n",
       "      <td>NaN</td>\n",
       "    </tr>\n",
       "    <tr>\n",
       "      <th>30951</th>\n",
       "      <td>?當然也歡迎寫信給板主檢舉，而我們會儘快處理。\"</td>\n",
       "      <td>NaN</td>\n",
       "      <td>NaN</td>\n",
       "      <td>NaN</td>\n",
       "      <td>NaN</td>\n",
       "    </tr>\n",
       "  </tbody>\n",
       "</table>\n",
       "<p>30952 rows × 5 columns</p>\n",
       "</div>"
      ],
      "text/plain": [
       "                                              Unnamed: 0  \\\n",
       "0                                                     13   \n",
       "1                                         日　期：2018.12.31   \n",
       "2                                              時　間：20:55   \n",
       "3                                        主持人：申東燁、申惠善、李帝勳   \n",
       "4      網  頁：<a href=\"\"https://goo.gl/5izEto\"\" rel=\"\"n...   \n",
       "...                                                  ...   \n",
       "30947                   ?若有人違反板規，可在推文中提出，但需註明「文章代碼＋違規事由」   \n",
       "30948                                                NaN   \n",
       "30949                   ?若有人違反板規，可在推文中提出，但需註明「文章代碼＋違規事由」   \n",
       "30950                                                NaN   \n",
       "30951                           ?當然也歡迎寫信給板主檢舉，而我們會儘快處理。\"   \n",
       "\n",
       "                                             標題        時間  \\\n",
       "0      <span class=\"b1 hl\">2018 SBS 演技大賞</span>  20181231   \n",
       "1                                           NaN       NaN   \n",
       "2                                           NaN       NaN   \n",
       "3                                           NaN       NaN   \n",
       "4                                           NaN       NaN   \n",
       "...                                         ...       ...   \n",
       "30947                                       NaN       NaN   \n",
       "30948                                       NaN       NaN   \n",
       "30949                                       NaN       NaN   \n",
       "30950                                       NaN       NaN   \n",
       "30951                                       NaN       NaN   \n",
       "\n",
       "                                             內容 Unnamed: 4  \n",
       "0      <span class=\"b1 hl\">2018 SBS 演技大賞</span>        NaN  \n",
       "1                                           NaN        NaN  \n",
       "2                                           NaN        NaN  \n",
       "3                                           NaN        NaN  \n",
       "4                                           NaN        NaN  \n",
       "...                                         ...        ...  \n",
       "30947                                       NaN        NaN  \n",
       "30948                                       NaN        NaN  \n",
       "30949                                       NaN        NaN  \n",
       "30950                                       NaN        NaN  \n",
       "30951                                       NaN        NaN  \n",
       "\n",
       "[30952 rows x 5 columns]"
      ]
     },
     "execution_count": 23,
     "metadata": {},
     "output_type": "execute_result"
    }
   ],
   "source": [
    "KoreaDrama"
   ]
  },
  {
   "cell_type": "code",
   "execution_count": 11,
   "metadata": {},
   "outputs": [],
   "source": [
    "total_movie = []\n",
    "for mov in movie:\n",
    "    count = 0\n",
    "    for art in thearticle:\n",
    "        if mov in str(art):\n",
    "            count = count +1\n",
    "    total_movie.append(count)"
   ]
  },
  {
   "cell_type": "code",
   "execution_count": 12,
   "metadata": {},
   "outputs": [
    {
     "data": {
      "text/plain": [
       "[0, 9, 3, 7, 6, 0, 0, 0, 9, 0]"
      ]
     },
     "execution_count": 12,
     "metadata": {},
     "output_type": "execute_result"
    }
   ],
   "source": [
    "total_movie"
   ]
  },
  {
   "cell_type": "code",
   "execution_count": 18,
   "metadata": {},
   "outputs": [
    {
     "data": {
      "image/png": "[encoded data removed]",
      "text/plain": [
       "<Figure size 432x288 with 1 Axes>"
      ]
     },
     "metadata": {
      "needs_background": "light"
     },
     "output_type": "display_data"
    }
   ],
   "source": [
    "plt.bar(movie, total_movie, color=colrogroup2)\n",
    "plt.xticks(fontsize=15,rotation=90)\n",
    "plt.xlabel('韓劇名稱',fontsize=15)\n",
    "plt.ylabel('聲量',fontsize=15)\n",
    "plt.title('韓劇聲量分析',fontsize=20)\n",
    "plt.show()"
   ]
  },
  {
   "cell_type": "code",
   "execution_count": null,
   "metadata": {},
   "outputs": [],
   "source": []
  }
 ],
 "metadata": {
  "kernelspec": {
   "display_name": "Python 3",
   "language": "python",
   "name": "python3"
  },
  "language_info": {
   "codemirror_mode": {
    "name": "ipython",
    "version": 3
   },
   "file_extension": ".py",
   "mimetype": "text/x-python",
   "name": "python",
   "nbconvert_exporter": "python",
   "pygments_lexer": "ipython3",
   "version": "3.8.5"
  }
 },
 "nbformat": 4,
 "nbformat_minor": 4
}
